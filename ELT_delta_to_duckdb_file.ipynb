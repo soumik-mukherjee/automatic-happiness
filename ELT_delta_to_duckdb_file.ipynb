{
 "cells": [
  {
   "cell_type": "code",
   "execution_count": 1,
   "id": "301a703f-f5e9-483a-a8b3-d5b4433f290c",
   "metadata": {},
   "outputs": [
    {
     "name": "stdout",
     "output_type": "stream",
     "text": [
      "Requirement already satisfied: duckdb in ./jupyterlab-venv/lib/python3.10/site-packages (1.1.2)\n"
     ]
    }
   ],
   "source": [
    "!pip install duckdb"
   ]
  },
  {
   "cell_type": "code",
   "execution_count": 2,
   "id": "8df2f00e-1aa0-4d5e-bbe1-7406beb7e645",
   "metadata": {},
   "outputs": [
    {
     "name": "stderr",
     "output_type": "stream",
     "text": [
      "<jemalloc>: Out-of-range conf value: narenas:0\n"
     ]
    }
   ],
   "source": [
    "import duckdb"
   ]
  },
  {
   "cell_type": "code",
   "execution_count": 3,
   "id": "5f702c4a-6d7e-4fbf-b05c-81d841cf8df8",
   "metadata": {},
   "outputs": [],
   "source": [
    "duckLocalFileCon = duckdb.connect(\"/home/ubuntu/nyc.db\")"
   ]
  },
  {
   "cell_type": "code",
   "execution_count": 7,
   "id": "3b2b21e3-1c64-4ced-a716-b83ce8ebcb89",
   "metadata": {},
   "outputs": [
    {
     "name": "stdout",
     "output_type": "stream",
     "text": [
      "┌─────────┐\n",
      "│ Success │\n",
      "│ boolean │\n",
      "├─────────┤\n",
      "│ true    │\n",
      "└─────────┘\n",
      "\n"
     ]
    },
    {
     "name": "stderr",
     "output_type": "stream",
     "text": [
      "<jemalloc>: Out-of-range conf value: narenas:0\n"
     ]
    }
   ],
   "source": [
    "duckLocalFileCon.sql(\" \\\n",
    "CREATE SECRET my_ephem_sts_token ( \\\n",
    "    TYPE S3,\\\n",
    "    KEY_ID '',\\\n",
    "    SECRET '',\\\n",
    "    SESSION_TOKEN '',\\\n",
    "    REGION 'ap-south-1'\\\n",
    ");\").show()"
   ]
  },
  {
   "cell_type": "code",
   "execution_count": 8,
   "id": "d4c85537-af97-4dc5-9a44-2bd70acc9f01",
   "metadata": {},
   "outputs": [
    {
     "name": "stderr",
     "output_type": "stream",
     "text": [
      "<jemalloc>: Out-of-range conf value: narenas:0\n"
     ]
    }
   ],
   "source": [
    "nycInitData = duckLocalFileCon.sql(\"SELECT * \\\n",
    "    FROM delta_scan('s3://upgraded-pancake/soumik/superset-deltaduck/promo-1/deltalake/tbl_nyc_taxi_trips')\" \\\n",
    ");"
   ]
  },
  {
   "cell_type": "code",
   "execution_count": 9,
   "id": "bcd9b963-3251-40a9-b651-f2c18ca2d2dd",
   "metadata": {},
   "outputs": [
    {
     "name": "stdout",
     "output_type": "stream",
     "text": [
      "┌───────────┬───────┬─────────┬──────────┬──────────────────────┬───────────────────────┬────────────────────┬────────────┬──────────────┬──────────────┬─────────────────┬───────────────┬─────────────┬────────┬─────────┬────────────┬──────────────┬───────────┬───────────────────────┬──────────────┬──────────────┬───────────┬──────────────────────┐\n",
      "│ cab_type  │ year  │  month  │ VendorID │ lpep_pickup_datetime │ lpep_dropoff_datetime │ store_and_fwd_flag │ RatecodeID │ PULocationID │ DOLocationID │ passenger_count │ trip_distance │ fare_amount │ extra  │ mta_tax │ tip_amount │ tolls_amount │ ehail_fee │ improvement_surcharge │ total_amount │ payment_type │ trip_type │ congestion_surcharge │\n",
      "│  varchar  │ int32 │ varchar │  int32   │      timestamp       │       timestamp       │      varchar       │   double   │    int32     │    int32     │     double      │    double     │   double    │ double │ double  │   double   │    double    │  double   │        double         │    double    │    double    │  double   │        double        │\n",
      "├───────────┼───────┼─────────┼──────────┼──────────────────────┼───────────────────────┼────────────────────┼────────────┼──────────────┼──────────────┼─────────────────┼───────────────┼─────────────┼────────┼─────────┼────────────┼──────────────┼───────────┼───────────────────────┼──────────────┼──────────────┼───────────┼──────────────────────┤\n",
      "│ green_cab │  2024 │ January │        2 │ 2024-01-01 00:46:55  │ 2024-01-01 00:58:25   │ N                  │        1.0 │          236 │          239 │             1.0 │          1.98 │        12.8 │    1.0 │     0.5 │       3.61 │          0.0 │      NULL │                   1.0 │        21.66 │          1.0 │       1.0 │                 2.75 │\n",
      "└───────────┴───────┴─────────┴──────────┴──────────────────────┴───────────────────────┴────────────────────┴────────────┴──────────────┴──────────────┴─────────────────┴───────────────┴─────────────┴────────┴─────────┴────────────┴──────────────┴───────────┴───────────────────────┴──────────────┴──────────────┴───────────┴──────────────────────┘\n",
      "\n"
     ]
    }
   ],
   "source": [
    "nycInitData.limit(1).show()"
   ]
  },
  {
   "cell_type": "code",
   "execution_count": 10,
   "id": "02143c23-58f4-40ff-b954-60741a91daf1",
   "metadata": {},
   "outputs": [],
   "source": [
    "duckLocalFileCon.sql(\"CREATE OR REPLACE TABLE nyc_taxi_trips AS \\\n",
    "SELECT * \\\n",
    "    FROM nycInitData\")"
   ]
  },
  {
   "cell_type": "code",
   "execution_count": 11,
   "id": "1a4542f7-aa76-4087-9955-5d1d70c3dc3a",
   "metadata": {},
   "outputs": [
    {
     "name": "stdout",
     "output_type": "stream",
     "text": [
      "┌─────────┐\n",
      "│ Success │\n",
      "│ boolean │\n",
      "├─────────┤\n",
      "│ 0 rows  │\n",
      "└─────────┘\n",
      "\n"
     ]
    }
   ],
   "source": [
    "duckLocalFileCon.sql(\"CHECKPOINT\").show();"
   ]
  },
  {
   "cell_type": "code",
   "execution_count": 12,
   "id": "06722bfd-66b8-48fe-9c59-2c52d8ee80ac",
   "metadata": {},
   "outputs": [
    {
     "name": "stdout",
     "output_type": "stream",
     "text": [
      "┌───────────┬───────┬─────────┬──────────┬──────────────────────┬───────────────────────┬────────────────────┬────────────┬──────────────┬──────────────┬─────────────────┬───────────────┬─────────────┬────────┬─────────┬────────────┬──────────────┬───────────┬───────────────────────┬──────────────┬──────────────┬───────────┬──────────────────────┐\n",
      "│ cab_type  │ year  │  month  │ VendorID │ lpep_pickup_datetime │ lpep_dropoff_datetime │ store_and_fwd_flag │ RatecodeID │ PULocationID │ DOLocationID │ passenger_count │ trip_distance │ fare_amount │ extra  │ mta_tax │ tip_amount │ tolls_amount │ ehail_fee │ improvement_surcharge │ total_amount │ payment_type │ trip_type │ congestion_surcharge │\n",
      "│  varchar  │ int32 │ varchar │  int32   │      timestamp       │       timestamp       │      varchar       │   double   │    int32     │    int32     │     double      │    double     │   double    │ double │ double  │   double   │    double    │  double   │        double         │    double    │    double    │  double   │        double        │\n",
      "├───────────┼───────┼─────────┼──────────┼──────────────────────┼───────────────────────┼────────────────────┼────────────┼──────────────┼──────────────┼─────────────────┼───────────────┼─────────────┼────────┼─────────┼────────────┼──────────────┼───────────┼───────────────────────┼──────────────┼──────────────┼───────────┼──────────────────────┤\n",
      "│ green_cab │  2024 │ January │        2 │ 2024-01-01 00:46:55  │ 2024-01-01 00:58:25   │ N                  │        1.0 │          236 │          239 │             1.0 │          1.98 │        12.8 │    1.0 │     0.5 │       3.61 │          0.0 │      NULL │                   1.0 │        21.66 │          1.0 │       1.0 │                 2.75 │\n",
      "│ green_cab │  2024 │ January │        2 │ 2024-01-01 00:31:42  │ 2024-01-01 00:52:34   │ N                  │        1.0 │           65 │          170 │             5.0 │          6.54 │        30.3 │    1.0 │     0.5 │       7.11 │          0.0 │      NULL │                   1.0 │        42.66 │          1.0 │       1.0 │                 2.75 │\n",
      "│ green_cab │  2024 │ January │        2 │ 2024-01-01 00:30:21  │ 2024-01-01 00:49:23   │ N                  │        1.0 │           74 │          262 │             1.0 │          3.08 │        19.8 │    1.0 │     0.5 │        3.0 │          0.0 │      NULL │                   1.0 │        28.05 │          1.0 │       1.0 │                 2.75 │\n",
      "│ green_cab │  2024 │ January │        1 │ 2024-01-01 00:30:20  │ 2024-01-01 00:42:12   │ N                  │        1.0 │           74 │          116 │             1.0 │           2.4 │        14.2 │    1.0 │     1.5 │        0.0 │          0.0 │      NULL │                   1.0 │         16.7 │          2.0 │       1.0 │                  0.0 │\n",
      "│ green_cab │  2024 │ January │        2 │ 2024-01-01 00:32:38  │ 2024-01-01 00:43:37   │ N                  │        1.0 │           74 │          243 │             1.0 │          5.14 │        22.6 │    1.0 │     0.5 │       6.28 │          0.0 │      NULL │                   1.0 │        31.38 │          1.0 │       1.0 │                  0.0 │\n",
      "│ green_cab │  2024 │ January │        1 │ 2024-01-01 00:43:41  │ 2024-01-01 01:00:23   │ N                  │        1.0 │           33 │          209 │             1.0 │           2.0 │        17.0 │   3.75 │     1.5 │        2.0 │          0.0 │      NULL │                   1.0 │        24.25 │          1.0 │       1.0 │                 2.75 │\n",
      "│ green_cab │  2024 │ January │        1 │ 2024-01-01 00:31:56  │ 2024-01-01 00:48:09   │ N                  │        1.0 │           74 │          238 │             2.0 │           3.2 │        18.4 │   3.75 │     1.5 │        4.7 │          0.0 │      NULL │                   1.0 │        28.35 │          1.0 │       1.0 │                 2.75 │\n",
      "│ green_cab │  2024 │ January │        2 │ 2024-01-01 00:46:12  │ 2024-01-01 00:57:39   │ N                  │        1.0 │          166 │          239 │             2.0 │          2.01 │        13.5 │    1.0 │     0.5 │       5.62 │          0.0 │      NULL │                   1.0 │        24.37 │          1.0 │       1.0 │                 2.75 │\n",
      "│ green_cab │  2024 │ January │        2 │ 2024-01-01 00:38:07  │ 2024-01-01 00:39:23   │ N                  │        1.0 │          226 │          226 │             1.0 │          0.31 │         3.7 │    1.0 │     0.5 │        0.0 │          0.0 │      NULL │                   1.0 │          6.2 │          2.0 │       1.0 │                  0.0 │\n",
      "│ green_cab │  2024 │ January │        2 │ 2024-01-01 00:44:24  │ 2024-01-01 00:57:47   │ N                  │        1.0 │            7 │          129 │             1.0 │          2.32 │        14.9 │    1.0 │     0.5 │       3.48 │          0.0 │      NULL │                   1.0 │        20.88 │          1.0 │       1.0 │                  0.0 │\n",
      "│     ·     │    ·  │    ·    │        · │          ·           │          ·            │ ·                  │         ·  │            · │           ·  │              ·  │            ·  │          ·  │     ·  │      ·  │         ·  │           ·  │        ·  │                    ·  │           ·  │           ·  │        ·  │                   ·  │\n",
      "│     ·     │    ·  │    ·    │        · │          ·           │          ·            │ ·                  │         ·  │            · │           ·  │              ·  │            ·  │          ·  │     ·  │      ·  │         ·  │           ·  │        ·  │                    ·  │           ·  │           ·  │        ·  │                   ·  │\n",
      "│     ·     │    ·  │    ·    │        · │          ·           │          ·            │ ·                  │         ·  │            · │           ·  │              ·  │            ·  │          ·  │     ·  │      ·  │         ·  │           ·  │        ·  │                    ·  │           ·  │           ·  │        ·  │                   ·  │\n",
      "│ green_cab │  2024 │ January │        2 │ 2024-01-07 01:13:58  │ 2024-01-07 01:22:56   │ N                  │        1.0 │           82 │          129 │             2.0 │          1.35 │        10.7 │    1.0 │     0.5 │        0.0 │          0.0 │      NULL │                   1.0 │         13.2 │          2.0 │       1.0 │                  0.0 │\n",
      "│ green_cab │  2024 │ January │        2 │ 2024-01-07 01:05:19  │ 2024-01-07 01:13:00   │ N                  │        1.0 │          260 │          157 │             5.0 │          1.46 │        10.0 │    1.0 │     0.5 │        0.0 │          0.0 │      NULL │                   1.0 │         12.5 │          1.0 │       1.0 │                  0.0 │\n",
      "│ green_cab │  2024 │ January │        2 │ 2024-01-07 01:39:43  │ 2024-01-07 01:49:51   │ N                  │        1.0 │          260 │           82 │             5.0 │          1.03 │        10.7 │    1.0 │     0.5 │        0.0 │          0.0 │      NULL │                   1.0 │         13.2 │          2.0 │       1.0 │                  0.0 │\n",
      "│ green_cab │  2024 │ January │        1 │ 2024-01-07 01:09:46  │ 2024-01-07 01:17:34   │ N                  │        1.0 │          129 │           82 │             1.0 │           0.7 │         8.6 │    1.0 │     1.5 │        0.0 │          0.0 │      NULL │                   1.0 │         11.1 │          2.0 │       1.0 │                  0.0 │\n",
      "│ green_cab │  2024 │ January │        1 │ 2024-01-07 01:31:31  │ 2024-01-07 01:43:51   │ N                  │        1.0 │          129 │          173 │             1.0 │           2.0 │        13.5 │    1.0 │     1.5 │        0.0 │          0.0 │      NULL │                   1.0 │         16.0 │          2.0 │       1.0 │                  0.0 │\n",
      "│ green_cab │  2024 │ January │        2 │ 2024-01-07 00:49:00  │ 2024-01-07 00:58:52   │ N                  │        1.0 │          260 │          129 │             1.0 │          1.84 │        11.4 │    1.0 │     0.5 │        0.0 │          0.0 │      NULL │                   1.0 │         13.9 │          2.0 │       1.0 │                  0.0 │\n",
      "│ green_cab │  2024 │ January │        2 │ 2024-01-07 01:16:10  │ 2024-01-07 01:20:16   │ N                  │        1.0 │           82 │          129 │             1.0 │           0.5 │         5.8 │    1.0 │     0.5 │        0.0 │          0.0 │      NULL │                   1.0 │          8.3 │          2.0 │       1.0 │                  0.0 │\n",
      "│ green_cab │  2024 │ January │        2 │ 2024-01-07 02:01:55  │ 2024-01-07 02:12:59   │ N                  │        1.0 │           83 │          179 │             1.0 │          3.25 │        16.3 │    1.0 │     0.5 │       3.76 │          0.0 │      NULL │                   1.0 │        22.56 │          1.0 │       1.0 │                  0.0 │\n",
      "│ green_cab │  2024 │ January │        2 │ 2024-01-07 01:18:52  │ 2024-01-07 01:26:49   │ N                  │        1.0 │            7 │          129 │             1.0 │          1.45 │        10.0 │    1.0 │     0.5 │        2.5 │          0.0 │      NULL │                   1.0 │         15.0 │          1.0 │       1.0 │                  0.0 │\n",
      "│ green_cab │  2024 │ January │        2 │ 2024-01-07 02:15:09  │ 2024-01-07 02:16:11   │ N                  │        1.0 │          129 │           82 │             1.0 │          0.16 │         3.7 │    1.0 │     0.5 │        0.0 │          0.0 │      NULL │                   1.0 │          6.2 │          2.0 │       1.0 │                  0.0 │\n",
      "├───────────┴───────┴─────────┴──────────┴──────────────────────┴───────────────────────┴────────────────────┴────────────┴──────────────┴──────────────┴─────────────────┴───────────────┴─────────────┴────────┴─────────┴────────────┴──────────────┴───────────┴───────────────────────┴──────────────┴──────────────┴───────────┴──────────────────────┤\n",
      "│ ? rows (>9999 rows, 20 shown)                                                                                                                                                                                                                                                                                                                  23 columns │\n",
      "└───────────────────────────────────────────────────────────────────────────────────────────────────────────────────────────────────────────────────────────────────────────────────────────────────────────────────────────────────────────────────────────────────────────────────────────────────────────────────────────────────────────────────────────┘\n",
      "\n"
     ]
    }
   ],
   "source": [
    "duckLocalFileCon.sql(\"select * from nyc_taxi_trips\").show();"
   ]
  },
  {
   "cell_type": "code",
   "execution_count": null,
   "id": "462d4acb-5a43-4b38-93a1-62be3b702ff0",
   "metadata": {},
   "outputs": [],
   "source": []
  }
 ],
 "metadata": {
  "kernelspec": {
   "display_name": "Python 3 (ipykernel)",
   "language": "python",
   "name": "python3"
  },
  "language_info": {
   "codemirror_mode": {
    "name": "ipython",
    "version": 3
   },
   "file_extension": ".py",
   "mimetype": "text/x-python",
   "name": "python",
   "nbconvert_exporter": "python",
   "pygments_lexer": "ipython3",
   "version": "3.10.12"
  }
 },
 "nbformat": 4,
 "nbformat_minor": 5
}
