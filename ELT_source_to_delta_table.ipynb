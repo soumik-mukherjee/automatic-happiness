{
 "cells": [
  {
   "cell_type": "code",
   "execution_count": 1,
   "id": "d4c85537-af97-4dc5-9a44-2bd70acc9f01",
   "metadata": {},
   "outputs": [
    {
     "name": "stdout",
     "output_type": "stream",
     "text": [
      "Collecting deltalake\n",
      "  Using cached deltalake-0.20.2-cp38-abi3-manylinux_2_17_x86_64.manylinux2014_x86_64.whl (35.9 MB)\n",
      "Collecting pyarrow>=16\n",
      "  Using cached pyarrow-18.0.0-cp310-cp310-manylinux_2_28_x86_64.whl (40.0 MB)\n",
      "Installing collected packages: pyarrow, deltalake\n",
      "Successfully installed deltalake-0.20.2 pyarrow-18.0.0\n",
      "Collecting duckdb\n",
      "  Using cached duckdb-1.1.2-cp310-cp310-manylinux_2_17_x86_64.manylinux2014_x86_64.whl (20.1 MB)\n",
      "Installing collected packages: duckdb\n",
      "Successfully installed duckdb-1.1.2\n"
     ]
    }
   ],
   "source": [
    "!pip install deltalake\n",
    "!pip install duckdb"
   ]
  },
  {
   "cell_type": "code",
   "execution_count": 10,
   "id": "f33b3d58-b347-4e7d-88cf-5d47459db991",
   "metadata": {},
   "outputs": [
    {
     "name": "stdout",
     "output_type": "stream",
     "text": [
      "Collecting pandas\n",
      "  Downloading pandas-2.2.3-cp310-cp310-manylinux_2_17_x86_64.manylinux2014_x86_64.whl (13.1 MB)\n",
      "\u001b[2K     \u001b[90m━━━━━━━━━━━━━━━━━━━━━━━━━━━━━━━━━━━━━━━━\u001b[0m \u001b[32m13.1/13.1 MB\u001b[0m \u001b[31m4.9 MB/s\u001b[0m eta \u001b[36m0:00:00\u001b[0m00:01\u001b[0m00:01\u001b[0m\n",
      "\u001b[?25hCollecting numpy>=1.22.4\n",
      "  Downloading numpy-2.1.2-cp310-cp310-manylinux_2_17_x86_64.manylinux2014_x86_64.whl (16.3 MB)\n",
      "\u001b[2K     \u001b[90m━━━━━━━━━━━━━━━━━━━━━━━━━━━━━━━━━━━━━━━━\u001b[0m \u001b[32m16.3/16.3 MB\u001b[0m \u001b[31m5.3 MB/s\u001b[0m eta \u001b[36m0:00:00\u001b[0m00:01\u001b[0m00:01\u001b[0m\n",
      "\u001b[?25hCollecting tzdata>=2022.7\n",
      "  Using cached tzdata-2024.2-py2.py3-none-any.whl (346 kB)\n",
      "Collecting pytz>=2020.1\n",
      "  Using cached pytz-2024.2-py2.py3-none-any.whl (508 kB)\n",
      "Requirement already satisfied: python-dateutil>=2.8.2 in ./jupyterlab-venv/lib/python3.10/site-packages (from pandas) (2.9.0.post0)\n",
      "Requirement already satisfied: six>=1.5 in ./jupyterlab-venv/lib/python3.10/site-packages (from python-dateutil>=2.8.2->pandas) (1.16.0)\n",
      "Installing collected packages: pytz, tzdata, numpy, pandas\n",
      "Successfully installed numpy-2.1.2 pandas-2.2.3 pytz-2024.2 tzdata-2024.2\n",
      "Requirement already satisfied: numpy in ./jupyterlab-venv/lib/python3.10/site-packages (2.1.2)\n"
     ]
    }
   ],
   "source": [
    "!pip install pandas\n",
    "!pip install numpy"
   ]
  },
  {
   "cell_type": "code",
   "execution_count": 2,
   "id": "cacb313b-bd8a-45e2-a25c-92f523a47aae",
   "metadata": {},
   "outputs": [
    {
     "name": "stderr",
     "output_type": "stream",
     "text": [
      "<jemalloc>: Out-of-range conf value: narenas:0\n"
     ]
    }
   ],
   "source": [
    "import duckdb\n",
    "from deltalake.writer import write_deltalake"
   ]
  },
  {
   "cell_type": "code",
   "execution_count": 4,
   "id": "0758dc87-1038-4920-948f-8be052e15ca0",
   "metadata": {},
   "outputs": [],
   "source": [
    "storage_options = {\n",
    "    \"AWS_REGION\":'',\n",
    "    'AWS_ACCESS_KEY_ID': '',\n",
    "    'AWS_SECRET_ACCESS_KEY': '',\n",
    "    'AWS_SESSION_TOKEN': '',\n",
    "    'AWS_S3_ALLOW_UNSAFE_RENAME': 'true'\n",
    "}"
   ]
  },
  {
   "cell_type": "code",
   "execution_count": 3,
   "id": "aec160d4-c477-4693-99b3-dc12c1138629",
   "metadata": {},
   "outputs": [
    {
     "name": "stdout",
     "output_type": "stream",
     "text": [
      "┌─────────┐\n",
      "│ Success │\n",
      "│ boolean │\n",
      "├─────────┤\n",
      "│ true    │\n",
      "└─────────┘\n",
      "\n"
     ]
    },
    {
     "name": "stderr",
     "output_type": "stream",
     "text": [
      "<jemalloc>: Out-of-range conf value: narenas:0\n"
     ]
    }
   ],
   "source": [
    "duckdb.sql(\" \\\n",
    "CREATE SECRET my_ephem_sts_token ( \\\n",
    "    TYPE S3,\\\n",
    "    KEY_ID '',\\\n",
    "    SECRET '',\\\n",
    "    SESSION_TOKEN '',\\\n",
    "    REGION ''\\\n",
    ");\").show()"
   ]
  },
  {
   "cell_type": "code",
   "execution_count": 3,
   "id": "2f51162f-1da5-4909-b49c-553001467c01",
   "metadata": {},
   "outputs": [
    {
     "name": "stdout",
     "output_type": "stream",
     "text": [
      "┌────────────────────────────────────────────────────────────────────────────────────────────────────┬───────────────────────┬────────────┬─────────────┬─────────────────┬──────────────┬──────────────────┬───────┬───────────┬──────────┬─────────────────────────────────────────────────────────────────────────────────────────────────────┐\n",
      "│                                             file_name                                              │         name          │    type    │ type_length │ repetition_type │ num_children │  converted_type  │ scale │ precision │ field_id │                                            logical_type                                             │\n",
      "│                                              varchar                                               │        varchar        │  varchar   │   varchar   │     varchar     │    int64     │     varchar      │ int64 │   int64   │  int64   │                                               varchar                                               │\n",
      "├────────────────────────────────────────────────────────────────────────────────────────────────────┼───────────────────────┼────────────┼─────────────┼─────────────────┼──────────────┼──────────────────┼───────┼───────────┼──────────┼─────────────────────────────────────────────────────────────────────────────────────────────────────┤\n",
      "│ s3://upgraded-pancake/soumik/superset-deltaduck/promo-1/source-data/green_tripdata_2024-01.parquet │ schema                │ NULL       │ NULL        │ REQUIRED        │           20 │ NULL             │  NULL │      NULL │     NULL │ NULL                                                                                                │\n",
      "│ s3://upgraded-pancake/soumik/superset-deltaduck/promo-1/source-data/green_tripdata_2024-01.parquet │ VendorID              │ INT32      │ NULL        │ OPTIONAL        │         NULL │ NULL             │  NULL │      NULL │     NULL │ NULL                                                                                                │\n",
      "│ s3://upgraded-pancake/soumik/superset-deltaduck/promo-1/source-data/green_tripdata_2024-01.parquet │ lpep_pickup_datetime  │ INT64      │ NULL        │ OPTIONAL        │         NULL │ TIMESTAMP_MICROS │  NULL │      NULL │     NULL │ TimestampType(isAdjustedToUTC=0, unit=TimeUnit(MILLIS=<null>, MICROS=MicroSeconds(), NANOS=<null>)) │\n",
      "│ s3://upgraded-pancake/soumik/superset-deltaduck/promo-1/source-data/green_tripdata_2024-01.parquet │ lpep_dropoff_datetime │ INT64      │ NULL        │ OPTIONAL        │         NULL │ TIMESTAMP_MICROS │  NULL │      NULL │     NULL │ TimestampType(isAdjustedToUTC=0, unit=TimeUnit(MILLIS=<null>, MICROS=MicroSeconds(), NANOS=<null>)) │\n",
      "│ s3://upgraded-pancake/soumik/superset-deltaduck/promo-1/source-data/green_tripdata_2024-01.parquet │ store_and_fwd_flag    │ BYTE_ARRAY │ NULL        │ OPTIONAL        │         NULL │ UTF8             │  NULL │      NULL │     NULL │ StringType()                                                                                        │\n",
      "│ s3://upgraded-pancake/soumik/superset-deltaduck/promo-1/source-data/green_tripdata_2024-01.parquet │ RatecodeID            │ INT64      │ NULL        │ OPTIONAL        │         NULL │ NULL             │  NULL │      NULL │     NULL │ NULL                                                                                                │\n",
      "│ s3://upgraded-pancake/soumik/superset-deltaduck/promo-1/source-data/green_tripdata_2024-01.parquet │ PULocationID          │ INT32      │ NULL        │ OPTIONAL        │         NULL │ NULL             │  NULL │      NULL │     NULL │ NULL                                                                                                │\n",
      "│ s3://upgraded-pancake/soumik/superset-deltaduck/promo-1/source-data/green_tripdata_2024-01.parquet │ DOLocationID          │ INT32      │ NULL        │ OPTIONAL        │         NULL │ NULL             │  NULL │      NULL │     NULL │ NULL                                                                                                │\n",
      "│ s3://upgraded-pancake/soumik/superset-deltaduck/promo-1/source-data/green_tripdata_2024-01.parquet │ passenger_count       │ INT64      │ NULL        │ OPTIONAL        │         NULL │ NULL             │  NULL │      NULL │     NULL │ NULL                                                                                                │\n",
      "│ s3://upgraded-pancake/soumik/superset-deltaduck/promo-1/source-data/green_tripdata_2024-01.parquet │ trip_distance         │ DOUBLE     │ NULL        │ OPTIONAL        │         NULL │ NULL             │  NULL │      NULL │     NULL │ NULL                                                                                                │\n",
      "│ s3://upgraded-pancake/soumik/superset-deltaduck/promo-1/source-data/green_tripdata_2024-01.parquet │ fare_amount           │ DOUBLE     │ NULL        │ OPTIONAL        │         NULL │ NULL             │  NULL │      NULL │     NULL │ NULL                                                                                                │\n",
      "│ s3://upgraded-pancake/soumik/superset-deltaduck/promo-1/source-data/green_tripdata_2024-01.parquet │ extra                 │ DOUBLE     │ NULL        │ OPTIONAL        │         NULL │ NULL             │  NULL │      NULL │     NULL │ NULL                                                                                                │\n",
      "│ s3://upgraded-pancake/soumik/superset-deltaduck/promo-1/source-data/green_tripdata_2024-01.parquet │ mta_tax               │ DOUBLE     │ NULL        │ OPTIONAL        │         NULL │ NULL             │  NULL │      NULL │     NULL │ NULL                                                                                                │\n",
      "│ s3://upgraded-pancake/soumik/superset-deltaduck/promo-1/source-data/green_tripdata_2024-01.parquet │ tip_amount            │ DOUBLE     │ NULL        │ OPTIONAL        │         NULL │ NULL             │  NULL │      NULL │     NULL │ NULL                                                                                                │\n",
      "│ s3://upgraded-pancake/soumik/superset-deltaduck/promo-1/source-data/green_tripdata_2024-01.parquet │ tolls_amount          │ DOUBLE     │ NULL        │ OPTIONAL        │         NULL │ NULL             │  NULL │      NULL │     NULL │ NULL                                                                                                │\n",
      "│ s3://upgraded-pancake/soumik/superset-deltaduck/promo-1/source-data/green_tripdata_2024-01.parquet │ ehail_fee             │ DOUBLE     │ NULL        │ OPTIONAL        │         NULL │ NULL             │  NULL │      NULL │     NULL │ NULL                                                                                                │\n",
      "│ s3://upgraded-pancake/soumik/superset-deltaduck/promo-1/source-data/green_tripdata_2024-01.parquet │ improvement_surcharge │ DOUBLE     │ NULL        │ OPTIONAL        │         NULL │ NULL             │  NULL │      NULL │     NULL │ NULL                                                                                                │\n",
      "│ s3://upgraded-pancake/soumik/superset-deltaduck/promo-1/source-data/green_tripdata_2024-01.parquet │ total_amount          │ DOUBLE     │ NULL        │ OPTIONAL        │         NULL │ NULL             │  NULL │      NULL │     NULL │ NULL                                                                                                │\n",
      "│ s3://upgraded-pancake/soumik/superset-deltaduck/promo-1/source-data/green_tripdata_2024-01.parquet │ payment_type          │ INT64      │ NULL        │ OPTIONAL        │         NULL │ NULL             │  NULL │      NULL │     NULL │ NULL                                                                                                │\n",
      "│ s3://upgraded-pancake/soumik/superset-deltaduck/promo-1/source-data/green_tripdata_2024-01.parquet │ trip_type             │ INT64      │ NULL        │ OPTIONAL        │         NULL │ NULL             │  NULL │      NULL │     NULL │ NULL                                                                                                │\n",
      "│ s3://upgraded-pancake/soumik/superset-deltaduck/promo-1/source-data/green_tripdata_2024-01.parquet │ congestion_surcharge  │ DOUBLE     │ NULL        │ OPTIONAL        │         NULL │ NULL             │  NULL │      NULL │     NULL │ NULL                                                                                                │\n",
      "├────────────────────────────────────────────────────────────────────────────────────────────────────┴───────────────────────┴────────────┴─────────────┴─────────────────┴──────────────┴──────────────────┴───────┴───────────┴──────────┴─────────────────────────────────────────────────────────────────────────────────────────────────────┤\n",
      "│ 21 rows                                                                                                                                                                                                                                                                                                                             11 columns │\n",
      "└────────────────────────────────────────────────────────────────────────────────────────────────────────────────────────────────────────────────────────────────────────────────────────────────────────────────────────────────────────────────────────────────────────────────────────────────────────────────────────────────────────────────┘\n",
      "\n"
     ]
    }
   ],
   "source": [
    "duckdb.sql(\"\\\n",
    "  SELECT * \\\n",
    "    FROM \\\n",
    "      parquet_schema( \\\n",
    "        's3://upgraded-pancake/soumik/superset-deltaduck/promo-1/source-data/green_tripdata_2024-01.parquet' \\\n",
    "        );\\\n",
    "\").show()"
   ]
  },
  {
   "cell_type": "code",
   "execution_count": 19,
   "id": "30d4039c-e31e-4d43-9464-4a3d7087f103",
   "metadata": {},
   "outputs": [],
   "source": [
    "jan_green_cab_trips = duckdb.sql(\"SELECT  \\\n",
    "      'green_cab' as cab_type, \\\n",
    "      2024 as year, \\\n",
    "      'January' as month, \\\n",
    "      ndf.* \\\n",
    "    FROM \\\n",
    "      's3://upgraded-pancake/soumik/superset-deltaduck/promo-1/source-data/green_tripdata_2024-01.parquet' as ndf;\")"
   ]
  },
  {
   "cell_type": "code",
   "execution_count": 20,
   "id": "fda55875-7896-4548-8fc6-c7a5e533432a",
   "metadata": {},
   "outputs": [
    {
     "name": "stdout",
     "output_type": "stream",
     "text": [
      "┌───────────┬───────┬─────────┬──────────┬──────────────────────┬───────────────────────┬────────────────────┬────────────┬──────────────┬──────────────┬─────────────────┬───────────────┬─────────────┬────────┬─────────┬────────────┬──────────────┬───────────┬───────────────────────┬──────────────┬──────────────┬───────────┬──────────────────────┐\n",
      "│ cab_type  │ year  │  month  │ VendorID │ lpep_pickup_datetime │ lpep_dropoff_datetime │ store_and_fwd_flag │ RatecodeID │ PULocationID │ DOLocationID │ passenger_count │ trip_distance │ fare_amount │ extra  │ mta_tax │ tip_amount │ tolls_amount │ ehail_fee │ improvement_surcharge │ total_amount │ payment_type │ trip_type │ congestion_surcharge │\n",
      "│  varchar  │ int32 │ varchar │  int32   │      timestamp       │       timestamp       │      varchar       │   int64    │    int32     │    int32     │      int64      │    double     │   double    │ double │ double  │   double   │    double    │  double   │        double         │    double    │    int64     │   int64   │        double        │\n",
      "├───────────┼───────┼─────────┼──────────┼──────────────────────┼───────────────────────┼────────────────────┼────────────┼──────────────┼──────────────┼─────────────────┼───────────────┼─────────────┼────────┼─────────┼────────────┼──────────────┼───────────┼───────────────────────┼──────────────┼──────────────┼───────────┼──────────────────────┤\n",
      "│ green_cab │  2024 │ January │        2 │ 2024-01-01 00:46:55  │ 2024-01-01 00:58:25   │ N                  │          1 │          236 │          239 │               1 │          1.98 │        12.8 │    1.0 │     0.5 │       3.61 │          0.0 │      NULL │                   1.0 │        21.66 │            1 │         1 │                 2.75 │\n",
      "└───────────┴───────┴─────────┴──────────┴──────────────────────┴───────────────────────┴────────────────────┴────────────┴──────────────┴──────────────┴─────────────────┴───────────────┴─────────────┴────────┴─────────┴────────────┴──────────────┴───────────┴───────────────────────┴──────────────┴──────────────┴───────────┴──────────────────────┘\n",
      "\n"
     ]
    }
   ],
   "source": [
    "jan_green_cab_trips.limit(1).show();"
   ]
  },
  {
   "cell_type": "markdown",
   "id": "97f3c6cb-0eb9-48bc-a29e-1b01bf73ed8c",
   "metadata": {},
   "source": [
    "write_deltalake(\n",
    "    table_or_uri='s3://upgraded-pancake/soumik/superset-deltaduck/promo-1/deltalake/tbl_nyc_taxi_trips',\n",
    "    storage_options=storage_options,\n",
    "    data=jan_green_cab_trips.df(),\n",
    "    mode='append',\n",
    "    name='tbl_nyc_taxi_trips'\n",
    ")"
   ]
  },
  {
   "cell_type": "markdown",
   "id": "ba48bcf3-4a00-423d-873c-118cff17fc25",
   "metadata": {},
   "source": [
    "### Load 2nd file with Yellow Taxi Data for Jan, 2024"
   ]
  },
  {
   "cell_type": "code",
   "execution_count": 5,
   "id": "4f8c34ac-5825-48ef-8f51-d7c8e61244da",
   "metadata": {},
   "outputs": [],
   "source": [
    "jan_yellow_cab_trips = duckdb.sql(\"SELECT  \\\n",
    "      'yellow_cab' as cab_type, \\\n",
    "      2024 as year, \\\n",
    "      'January' as month, \\\n",
    "      ndf.* \\\n",
    "    FROM \\\n",
    "      's3://upgraded-pancake/soumik/superset-deltaduck/promo-1/source-data/yellow_tripdata_2024-01.parquet' as ndf;\")"
   ]
  },
  {
   "cell_type": "code",
   "execution_count": 6,
   "id": "410498a5-9c91-467d-a46d-ffc435b09758",
   "metadata": {},
   "outputs": [
    {
     "name": "stdout",
     "output_type": "stream",
     "text": [
      "┌────────────┬───────┬─────────┬──────────┬──────────────────────┬───────────────────────┬─────────────────┬───────────────┬────────────┬────────────────────┬──────────────┬──────────────┬──────────────┬─────────────┬────────┬─────────┬────────────┬──────────────┬───────────────────────┬──────────────┬──────────────────────┬─────────────┐\n",
      "│  cab_type  │ year  │  month  │ VendorID │ tpep_pickup_datetime │ tpep_dropoff_datetime │ passenger_count │ trip_distance │ RatecodeID │ store_and_fwd_flag │ PULocationID │ DOLocationID │ payment_type │ fare_amount │ extra  │ mta_tax │ tip_amount │ tolls_amount │ improvement_surcharge │ total_amount │ congestion_surcharge │ Airport_fee │\n",
      "│  varchar   │ int32 │ varchar │  int32   │      timestamp       │       timestamp       │      int64      │    double     │   int64    │      varchar       │    int32     │    int32     │    int64     │   double    │ double │ double  │   double   │    double    │        double         │    double    │        double        │   double    │\n",
      "├────────────┼───────┼─────────┼──────────┼──────────────────────┼───────────────────────┼─────────────────┼───────────────┼────────────┼────────────────────┼──────────────┼──────────────┼──────────────┼─────────────┼────────┼─────────┼────────────┼──────────────┼───────────────────────┼──────────────┼──────────────────────┼─────────────┤\n",
      "│ yellow_cab │  2024 │ January │        2 │ 2024-01-01 00:57:55  │ 2024-01-01 01:17:43   │               1 │          1.72 │          1 │ N                  │          186 │           79 │            2 │        17.7 │    1.0 │     0.5 │        0.0 │          0.0 │                   1.0 │         22.7 │                  2.5 │         0.0 │\n",
      "└────────────┴───────┴─────────┴──────────┴──────────────────────┴───────────────────────┴─────────────────┴───────────────┴────────────┴────────────────────┴──────────────┴──────────────┴──────────────┴─────────────┴────────┴─────────┴────────────┴──────────────┴───────────────────────┴──────────────┴──────────────────────┴─────────────┘\n",
      "\n"
     ]
    }
   ],
   "source": [
    "jan_yellow_cab_trips.limit(1).show();"
   ]
  },
  {
   "cell_type": "code",
   "execution_count": null,
   "id": "10fd83d5-c525-4485-8ef1-6aa6d70de95d",
   "metadata": {},
   "outputs": [],
   "source": [
    "write_deltalake(\n",
    "    table_or_uri='s3://upgraded-pancake/soumik/superset-deltaduck/promo-1/deltalake/tbl_nyc_taxi_trips',\n",
    "    storage_options=storage_options,\n",
    "    data=jan_yellow_cab_trips.df(),\n",
    "    mode='append',\n",
    "    name='tbl_nyc_taxi_trips'\n",
    ")"
   ]
  },
  {
   "cell_type": "code",
   "execution_count": null,
   "id": "6012965f-a7c6-4dbd-8a83-9ceac1c537e3",
   "metadata": {},
   "outputs": [],
   "source": []
  }
 ],
 "metadata": {
  "kernelspec": {
   "display_name": "Python 3 (ipykernel)",
   "language": "python",
   "name": "python3"
  },
  "language_info": {
   "codemirror_mode": {
    "name": "ipython",
    "version": 3
   },
   "file_extension": ".py",
   "mimetype": "text/x-python",
   "name": "python",
   "nbconvert_exporter": "python",
   "pygments_lexer": "ipython3",
   "version": "3.10.12"
  }
 },
 "nbformat": 4,
 "nbformat_minor": 5
}
